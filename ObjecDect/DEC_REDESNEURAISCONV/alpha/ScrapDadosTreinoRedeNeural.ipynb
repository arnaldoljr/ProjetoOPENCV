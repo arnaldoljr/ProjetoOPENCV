{
 "cells": [
  {
   "cell_type": "markdown",
   "metadata": {},
   "source": [
    "Para tornar mais eficaz o treinamento dos dados será feita um SCRAPING de vídeos do youtube. Deste modo há mais dados relevantes para o treinamento, como também, especificar a \"objeto de inferência\" - LEMBRETE: Conversar sobre isso com o Prof. João Fernando \n"
   ]
  },
  {
   "cell_type": "code",
   "execution_count": 4,
   "metadata": {},
   "outputs": [],
   "source": [
    "import scrapy\n",
    "#from scrapy.contrib.loader import ItemLoader\n",
    "#import ItemLoader\n",
    "    \n",
    "class YoutubeVideo(scrapy.Item):\n",
    "    link = scrapy.Field()\n",
    "    title = scrapy.Field()\n",
    "    views = scrapy.Field()\n",
    " \n",
    "class YoutubeChannelLister(scrapy.Spider):\n",
    "    name = 'youtube-lister'\n",
    "    #youtube_channel = 'LongboardUK'\n",
    "    #start_urls = ['https://www.youtube.com/user/%s/videos' % youtube_channel]\n",
    "    start_url = ['https://www.youtube.com/results?search_query=roubo+assalto+furto+cameras+de+seguran%C3%A7a+']\n",
    "    def parse(self, response):\n",
    "        for sel in response.css(\"ul#channels-browse-content-grid > li\"):\n",
    "            loader = ItemLoader(YoutubeVideo(), selector=sel)\n",
    " \n",
    "            loader.add_xpath('link', './/h3/a/@href')\n",
    "            loader.add_xpath('title', './/h3/a/text()')\n",
    "            loader.add_xpath('views', \".//ul/li[1]/text()\")\n",
    " \n",
    "            yield loader.load_item()\n"
   ]
  },
  {
   "cell_type": "code",
   "execution_count": null,
   "metadata": {},
   "outputs": [],
   "source": [
    "print()"
   ]
  }
 ],
 "metadata": {
  "kernelspec": {
   "display_name": "Python 3",
   "language": "python",
   "name": "python3"
  },
  "language_info": {
   "codemirror_mode": {
    "name": "ipython",
    "version": 3
   },
   "file_extension": ".py",
   "mimetype": "text/x-python",
   "name": "python",
   "nbconvert_exporter": "python",
   "pygments_lexer": "ipython3",
   "version": "3.7.3"
  }
 },
 "nbformat": 4,
 "nbformat_minor": 2
}
